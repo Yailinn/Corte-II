{
 "cells": [
  {
   "cell_type": "markdown",
   "metadata": {},
   "source": [
    "# Oscilador armónico simple cuántico"
   ]
  },
  {
   "cell_type": "code",
   "execution_count": 19,
   "metadata": {},
   "outputs": [
    {
     "name": "stdout",
     "output_type": "stream",
     "text": [
      "La energía media es <E>=  99.95583816838666 con un tiempo computacional de  3.266334533691406e-05\n"
     ]
    }
   ],
   "source": [
    "from numpy import*\n",
    "from pylab import*\n",
    "import time\n",
    "B=1/100\n",
    "w=1\n",
    "h=1\n",
    "Z=[]\n",
    "E=[]\n",
    "for n in range(1001):\n",
    "    E_n=w*h*(n+0.5)\n",
    "    z=exp(-B*E_n)\n",
    "    Z.append(z)\n",
    "    a=sum(Z)\n",
    "    Ep=(E_n*exp(-B*E_n))\n",
    "    E.append(Ep)\n",
    "    #print(E_n)\n",
    "    #print(z)\n",
    "    #print(E)\n",
    "#print(d)\n",
    "#print(sum(Z))\n",
    "Eprom=(1/a)*sum(E)\n",
    "ts=time.time() #Calcula el tiempo \n",
    "T=time.time()-ts\n",
    "print('La energía media es <E>= ',Eprom,'con un tiempo computacional de ',T)"
   ]
  },
  {
   "cell_type": "markdown",
   "metadata": {},
   "source": [
    "Otra manera de hacerlo"
   ]
  },
  {
   "cell_type": "code",
   "execution_count": 20,
   "metadata": {},
   "outputs": [
    {
     "name": "stdout",
     "output_type": "stream",
     "text": [
      "La energía media es <E>=  99.95583816838665 con un tiempo computacional de  3.719329833984375e-05\n",
      "1.4210854715202004e-14\n",
      "4.5299530029296875e-06\n"
     ]
    }
   ],
   "source": [
    "B=0.01\n",
    "N=1001\n",
    "s=0\n",
    "z=0\n",
    "for n in range(int(N)):\n",
    "    E=n+0.5\n",
    "    w=exp(-B*E)\n",
    "    s+=E*w\n",
    "    z+=w\n",
    "ta=time.time()\n",
    "T1=time.time()-ta\n",
    "print('La energía media es <E>= ',s/z,'con un tiempo computacional de ',T1)\n",
    "dE=Eprom-(s/z)\n",
    "dt=abs(T-T1)\n",
    "print(dE)\n",
    "print(dt)"
   ]
  },
  {
   "cell_type": "code",
   "execution_count": 54,
   "metadata": {},
   "outputs": [
    {
     "data": {
      "text/plain": [
       "array([[0., 0., 0., ..., 0., 0., 0.],\n",
       "       [0., 0., 0., ..., 0., 0., 0.],\n",
       "       [0., 0., 0., ..., 0., 0., 0.],\n",
       "       ...,\n",
       "       [0., 0., 0., ..., 0., 0., 0.],\n",
       "       [0., 0., 0., ..., 0., 0., 0.],\n",
       "       [0., 0., 0., ..., 0., 0., 0.]])"
      ]
     },
     "execution_count": 54,
     "metadata": {},
     "output_type": "execute_result"
    }
   ],
   "source": [
    "c=zeros([1000,1000])\n",
    "dot(c,c)"
   ]
  },
  {
   "cell_type": "code",
   "execution_count": 58,
   "metadata": {},
   "outputs": [
    {
     "name": "stdout",
     "output_type": "stream",
     "text": [
      "numero de filas matriz 1: 2\n",
      "numero de columnas matriz 1: 2\n",
      "numero de columnas matriz 2: 2\n",
      "A=  [0, 0]\n",
      "A=  [0, 0]\n",
      "c=  [0, 0]\n",
      "c=  [0, 0]\n",
      "R=  [0]\n",
      "R=  [0, 0]\n",
      "R=  [0]\n",
      "R=  [0, 0]\n"
     ]
    }
   ],
   "source": [
    "filas1=int(input('numero de filas matriz 1: '))\n",
    "col1=int(input('numero de columnas matriz 1: '))\n",
    "col2=int(input('numero de columnas matriz 2: '))\n",
    "A=[]\n",
    "for i in range(filas1):\n",
    "    A.append([0]*col1)\n",
    "    \n",
    "for i in range(filas1):\n",
    "    print('A= ',A[i])\n",
    "\n",
    "C=[]\n",
    "for i in range (filas1):\n",
    "    C.append([0]*col2)\n",
    "\n",
    "for i in range(filas1):\n",
    "    print('c= ',C[i])\n",
    "    \n",
    "for i in range(filas1):\n",
    "    for j in range(col2):\n",
    "        for k in range(col1):\n",
    "            C[i][j]=A[i][k]*A[k][j]\n",
    "\n",
    "for i in range(filas1):\n",
    "    R=[]\n",
    "    for j in range(col2):\n",
    "        R.append(C[i][j])\n",
    "        print('R= ',R)"
   ]
  },
  {
   "cell_type": "code",
   "execution_count": null,
   "metadata": {},
   "outputs": [],
   "source": []
  },
  {
   "cell_type": "code",
   "execution_count": null,
   "metadata": {},
   "outputs": [],
   "source": []
  }
 ],
 "metadata": {
  "kernelspec": {
   "display_name": "Python 3",
   "language": "python",
   "name": "python3"
  },
  "language_info": {
   "codemirror_mode": {
    "name": "ipython",
    "version": 3
   },
   "file_extension": ".py",
   "mimetype": "text/x-python",
   "name": "python",
   "nbconvert_exporter": "python",
   "pygments_lexer": "ipython3",
   "version": "3.5.2"
  }
 },
 "nbformat": 4,
 "nbformat_minor": 2
}
