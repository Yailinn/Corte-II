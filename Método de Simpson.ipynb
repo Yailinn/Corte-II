{
 "cells": [
  {
   "cell_type": "markdown",
   "metadata": {},
   "source": [
    "# CÁLCULO DE INTEGRALES"
   ]
  },
  {
   "cell_type": "markdown",
   "metadata": {},
   "source": [
    "Resolver la integral $\\int_{0}^{2} (x^{4}-2x+1) dx$"
   ]
  },
  {
   "cell_type": "markdown",
   "metadata": {},
   "source": [
    "* **Método de Simpson**"
   ]
  },
  {
   "cell_type": "code",
   "execution_count": 18,
   "metadata": {},
   "outputs": [
    {
     "name": "stdout",
     "output_type": "stream",
     "text": [
      "PARA EL MÉTODO DE SIMPSON\n",
      "El valor de la integral, calculado computacionalmente, es I = 4.400000042666668\n",
      "El valor de la integral analítica es I = 4.4\n",
      "El error es e = 9.696969893724372e-07\n"
     ]
    }
   ],
   "source": [
    "N=100\n",
    "a=0\n",
    "b=2\n",
    "h=(b-a)/N\n",
    "it1=0\n",
    "it2=0\n",
    "for k in range(1,(N//2)+1):\n",
    "    x1=a+(2*k-1)*h\n",
    "    y1=(x1**4-(2*x1)+1)\n",
    "    it1+=y1\n",
    "for k in range(1,((N//2)-1)+1):\n",
    "    x2=a+(2*k*h)\n",
    "    y2=(x2**4-(2*x2)+1)\n",
    "    it2+=y2\n",
    "I=4*it1+2*it2\n",
    "It=(h/3)*((a**4-2*a+1+b**4-2*b+1)+I)\n",
    "print('PARA EL MÉTODO DE SIMPSON\\nEl valor de la integral, calculado computacionalmente, es I =',It)\n",
    "print('El valor de la integral analítica es I =', 4.4)\n",
    "error=abs((1-(It/4.4)))\n",
    "print('El error es e =',error*100)"
   ]
  },
  {
   "cell_type": "code",
   "execution_count": 19,
   "metadata": {},
   "outputs": [
    {
     "name": "stdout",
     "output_type": "stream",
     "text": [
      "PARA EL MÉTODO DE SIMPSON\n",
      "El valor de la integral, calculado computacionalmente, es I = 4.400000000004267\n",
      "El valor de la integral analítica es I = 4.4\n",
      "El error es e = 9.696687897076117e-11\n"
     ]
    }
   ],
   "source": [
    "N=1000\n",
    "a=0\n",
    "b=2\n",
    "h=(b-a)/N\n",
    "it1=0\n",
    "it2=0\n",
    "for k in range(1,(N//2)+1):\n",
    "    x1=a+(2*k-1)*h\n",
    "    y1=(x1**4-(2*x1)+1)\n",
    "    it1+=y1\n",
    "for k in range(1,((N//2)-1)+1):\n",
    "    x2=a+(2*k*h)\n",
    "    y2=(x2**4-(2*x2)+1)\n",
    "    it2+=y2\n",
    "I=4*it1+2*it2\n",
    "It=(h/3)*((a**4-2*a+1+b**4-2*b+1)+I)\n",
    "print('PARA EL MÉTODO DE SIMPSON\\nEl valor de la integral, calculado computacionalmente, es I =',It)\n",
    "print('El valor de la integral analítica es I =', 4.4)\n",
    "error=abs((1-(It/4.4)))\n",
    "print('El error es e =',error*100)"
   ]
  },
  {
   "cell_type": "markdown",
   "metadata": {},
   "source": [
    "* **Método del trapezoide**"
   ]
  },
  {
   "cell_type": "code",
   "execution_count": 20,
   "metadata": {},
   "outputs": [
    {
     "name": "stdout",
     "output_type": "stream",
     "text": [
      "PARA EL MÉTODO DEL TRAPECIO\n",
      "El valor de la integral, calculado computacionalmente, es I = 4.1528759328\n",
      "El valor de la integral analítica es I = 4.4\n",
      "El error es e = 5.616456072727283\n"
     ]
    }
   ],
   "source": [
    "N=100\n",
    "a=0\n",
    "b=2\n",
    "h=(b-a)/N\n",
    "it=0\n",
    "for k in range(1,N-1):\n",
    "    x=a+k*h\n",
    "    y=(x**4-(2*x)+1)\n",
    "    it+=h*y\n",
    "It=(h/2)*(a**4-(2*a)+1+b**4-(2*b)+1)+it\n",
    "print('PARA EL MÉTODO DEL TRAPECIO\\nEl valor de la integral, calculado computacionalmente, es I =',It)\n",
    "print('El valor de la integral analítica es I =', 4.4)\n",
    "error=abs((1-(It/4.4)))\n",
    "print('El error es e =',error*100)"
   ]
  },
  {
   "cell_type": "code",
   "execution_count": 21,
   "metadata": {},
   "outputs": [
    {
     "name": "stdout",
     "output_type": "stream",
     "text": [
      "PARA EL MÉTODO DEL TRAPECIO\n",
      "El valor de la integral, calculado computacionalmente, es I = 4.374130474793567\n",
      "El valor de la integral analítica es I = 4.4\n",
      "El error es e = 0.5879437546916666\n"
     ]
    }
   ],
   "source": [
    "N=1000\n",
    "a=0\n",
    "b=2\n",
    "h=(b-a)/N\n",
    "it=0\n",
    "for k in range(1,N-1):\n",
    "    x=a+k*h\n",
    "    y=(x**4-(2*x)+1)\n",
    "    it+=h*y\n",
    "It=(h/2)*(a**4-(2*a)+1+b**4-(2*b)+1)+it\n",
    "print('PARA EL MÉTODO DEL TRAPECIO\\nEl valor de la integral, calculado computacionalmente, es I =',It)\n",
    "print('El valor de la integral analítica es I =', 4.4)\n",
    "error=abs((1-(It/4.4)))\n",
    "print('El error es e =',error*100)"
   ]
  },
  {
   "cell_type": "markdown",
   "metadata": {},
   "source": [
    "Observando los resultados de ambos métodos, con **$N=1000$** para más exactitud, se observa claramente que el de Simpson es mucho más preciso, notándose esto en los errores calculados. Esto se debe a que el método de Simpson consiste en calcular el área bajo una serie de parábolas que se hace mucho más precisa respecto a la función $f(x)$ al aumentar $N$, a diferencia del método del trapecio, donde el área se calcula sin tener en cuenta una curva suave como la de una parábola."
   ]
  },
  {
   "cell_type": "markdown",
   "metadata": {},
   "source": [
    "  * **Espectro de difracción**"
   ]
  },
  {
   "cell_type": "code",
   "execution_count": 92,
   "metadata": {},
   "outputs": [
    {
     "name": "stdout",
     "output_type": "stream",
     "text": [
      "\tPOR EL MÉTODO DE SIMPSON\n",
      "\n",
      "\t\tPara m =  0\n",
      "\tPara x = 0 ,  I = 0.999999999999998\n",
      "\tPara x = 1 ,  I = 0.7651976865579668\n",
      "\tPara x = 2 ,  I = 0.22389077914123565\n",
      "\tPara x = 3 ,  I = -0.2600519549019332\n",
      "\tPara x = 4 ,  I = -0.39714980986384735\n",
      "\tPara x = 5 ,  I = -0.17759677131433838\n",
      "\tPara x = 6 ,  I = 0.15064525725099695\n",
      "\tPara x = 7 ,  I = 0.3000792705195557\n",
      "\tPara x = 8 ,  I = 0.1716508071375541\n",
      "\tPara x = 9 ,  I = -0.09033361118287613\n",
      "\tPara x = 10 ,  I = -0.2459357644513484\n",
      "\tPara x = 11 ,  I = -0.17119030040719604\n",
      "\tPara x = 12 ,  I = 0.04768931079683353\n",
      "\tPara x = 13 ,  I = 0.20692610237706763\n",
      "\tPara x = 14 ,  I = 0.1710734761104587\n",
      "\tPara x = 15 ,  I = -0.01422447282678075\n",
      "\tPara x = 16 ,  I = -0.17489907398362894\n",
      "\tPara x = 17 ,  I = -0.16985425215118333\n",
      "\tPara x = 18 ,  I = -0.01335580572198411\n",
      "\tPara x = 19 ,  I = 0.1466294396596514\n",
      "\tPara x = 20 ,  I = 0.1670246643405832\n",
      "\n",
      "\t\tPara m =  1\n",
      "\tPara x = 0 ,  I = -2.8406096919120216e-17\n",
      "\tPara x = 1 ,  I = 0.4400505857449336\n",
      "\tPara x = 2 ,  I = 0.5767248077568737\n",
      "\tPara x = 3 ,  I = 0.33905895852593687\n",
      "\tPara x = 4 ,  I = -0.06604332802354916\n",
      "\tPara x = 5 ,  I = -0.32757913759146506\n",
      "\tPara x = 6 ,  I = -0.2766838581275658\n",
      "\tPara x = 7 ,  I = -0.00468282348234584\n",
      "\tPara x = 8 ,  I = 0.2346363468539148\n",
      "\tPara x = 9 ,  I = 0.24531178657332542\n",
      "\tPara x = 10 ,  I = 0.04347274616886143\n",
      "\tPara x = 11 ,  I = -0.17678529895672146\n",
      "\tPara x = 12 ,  I = -0.22344710449062746\n",
      "\tPara x = 13 ,  I = -0.07031805212177843\n",
      "\tPara x = 14 ,  I = 0.13337515469879324\n",
      "\tPara x = 15 ,  I = 0.20510403861352283\n",
      "\tPara x = 16 ,  I = 0.09039717566130426\n",
      "\tPara x = 17 ,  I = -0.09766849275778076\n",
      "\tPara x = 18 ,  I = -0.18799488548806959\n",
      "\tPara x = 19 ,  I = -0.10570143114240924\n",
      "\tPara x = 20 ,  I = 0.06683312417585001\n",
      "\n",
      "\t\tPara m =  2\n",
      "\tPara x = 0 ,  I = 3.458604930228759e-17\n",
      "\tPara x = 1 ,  I = 0.11490348493190046\n",
      "\tPara x = 2 ,  I = 0.3528340286156377\n",
      "\tPara x = 3 ,  I = 0.48609126058589164\n",
      "\tPara x = 4 ,  I = 0.3641281458520729\n",
      "\tPara x = 5 ,  I = 0.04656511627775229\n",
      "\tPara x = 6 ,  I = -0.24287320996018538\n",
      "\tPara x = 7 ,  I = -0.30141722008594024\n",
      "\tPara x = 8 ,  I = -0.11299172042407522\n",
      "\tPara x = 9 ,  I = 0.14484734153250398\n",
      "\tPara x = 10 ,  I = 0.2546303136851205\n",
      "\tPara x = 11 ,  I = 0.1390475187787014\n",
      "\tPara x = 12 ,  I = -0.08493049487860478\n",
      "\tPara x = 13 ,  I = -0.21774426424195673\n",
      "\tPara x = 14 ,  I = -0.1520198825820596\n",
      "\tPara x = 15 ,  I = 0.041571677975250444\n",
      "\tPara x = 16 ,  I = 0.18619872094129222\n",
      "\tPara x = 17 ,  I = 0.15836384123850353\n",
      "\tPara x = 18 ,  I = -0.007532514887801374\n",
      "\tPara x = 19 ,  I = -0.15775590609569431\n",
      "\tPara x = 20 ,  I = -0.16034135192299806\n"
     ]
    }
   ],
   "source": [
    "from math import*\n",
    "from numpy import*\n",
    "from pylab import plot\n",
    "N=1000\n",
    "b=pi\n",
    "a=0\n",
    "h=(b-a)/N\n",
    "A=[]\n",
    "B=[]\n",
    "print('\\tPOR EL MÉTODO DE SIMPSON')\n",
    "for m in range(0,3,1):\n",
    "    print('\\n\\t\\tPara m = ',m)\n",
    "    for x in range(0,21,1):\n",
    "        a=0\n",
    "        b=pi\n",
    "        it1=0\n",
    "        it2=0    \n",
    "        for k in range(1,(N//2)+1):\n",
    "            theta1=a+(2*k-1)*h\n",
    "            y1=(h/(3*pi))*(cos(m*theta1-x*sin(theta1)))\n",
    "            it1+=y1\n",
    "        for k in range(1,((N//2)-1)+1):\n",
    "            theta2=a+(2*k*h)\n",
    "            y2=(h/(3*pi))*(cos(m*theta2-x*sin(theta2)))\n",
    "            it2+=y2\n",
    "        I=4*it1+2*it2\n",
    "        It=(h/3)*(1/pi)*(cos(m*a-x*sin(a))+cos(m*b-x*sin(b)))+I\n",
    "    \n",
    "        print('\\tPara x =',x,',  I =',It)\n",
    "    \n"
   ]
  },
  {
   "cell_type": "markdown",
   "metadata": {},
   "source": [
    "* **Gráficas** "
   ]
  },
  {
   "cell_type": "code",
   "execution_count": 91,
   "metadata": {},
   "outputs": [
    {
     "data": {
      "image/png": "[encoded data removed]",
      "text/plain": [
       "<Figure size 432x288 with 1 Axes>"
      ]
     },
     "metadata": {
      "needs_background": "light"
     },
     "output_type": "display_data"
    }
   ],
   "source": [
    "A=[]\n",
    "B=[]\n",
    "C=[]\n",
    "D=[]\n",
    "E=[]\n",
    "F=[]\n",
    "for x in range(0,21,1):\n",
    "        m=0\n",
    "        a=0\n",
    "        b=pi\n",
    "        it1=0\n",
    "        it2=0    \n",
    "        for k in range(1,(N//2)+1):\n",
    "            theta1=a+(2*k-1)*h\n",
    "            y1=(h/(3*pi))*(cos(m*theta1-x*sin(theta1)))\n",
    "            it1+=y1\n",
    "        for k in range(1,((N//2)-1)+1):\n",
    "            theta2=a+(2*k*h)\n",
    "            y2=(h/(3*pi))*(cos(m*theta2-x*sin(theta2)))\n",
    "            it2+=y2\n",
    "        I=4*it1+2*it2\n",
    "        It=(h/3)*(1/pi)*(cos(m*a-x*sin(a))+cos(m*b-x*sin(b)))+I\n",
    "    \n",
    "        #print('\\tPara x =',x,',  I =',It)\n",
    "        A.append(It)\n",
    "        B.append(x)\n",
    "        plot(B,A)\n",
    "for x in range(0,21,1):\n",
    "        m=1\n",
    "        a=0\n",
    "        b=pi\n",
    "        it1=0\n",
    "        it2=0    \n",
    "        for k in range(1,(N//2)+1):\n",
    "            theta1=a+(2*k-1)*h\n",
    "            y1=(h/(3*pi))*(cos(m*theta1-x*sin(theta1)))\n",
    "            it1+=y1\n",
    "        for k in range(1,((N//2)-1)+1):\n",
    "            theta2=a+(2*k*h)\n",
    "            y2=(h/(3*pi))*(cos(m*theta2-x*sin(theta2)))\n",
    "            it2+=y2\n",
    "        I=4*it1+2*it2\n",
    "        It=(h/3)*(1/pi)*(cos(m*a-x*sin(a))+cos(m*b-x*sin(b)))+I\n",
    "    \n",
    "        #print('\\tPara x =',x,',  I =',It)\n",
    "        C.append(It)\n",
    "        D.append(x)\n",
    "        plot(D,C)\n",
    "for x in range(0,21,1):\n",
    "        m=2\n",
    "        a=0\n",
    "        b=pi\n",
    "        it1=0\n",
    "        it2=0    \n",
    "        for k in range(1,(N//2)+1):\n",
    "            theta1=a+(2*k-1)*h\n",
    "            y1=(h/(3*pi))*(cos(m*theta1-x*sin(theta1)))\n",
    "            it1+=y1\n",
    "        for k in range(1,((N//2)-1)+1):\n",
    "            theta2=a+(2*k*h)\n",
    "            y2=(h/(3*pi))*(cos(m*theta2-x*sin(theta2)))\n",
    "            it2+=y2\n",
    "        I=4*it1+2*it2\n",
    "        It=(h/3)*(1/pi)*(cos(m*a-x*sin(a))+cos(m*b-x*sin(b)))+I\n",
    "    \n",
    "        #print('\\tPara x =',x,',  I =',It)\n",
    "        E.append(It)\n",
    "        F.append(x)\n",
    "        plot(F,E)"
   ]
  },
  {
   "cell_type": "code",
   "execution_count": null,
   "metadata": {},
   "outputs": [],
   "source": []
  }
 ],
 "metadata": {
  "kernelspec": {
   "display_name": "Python 3",
   "language": "python",
   "name": "python3"
  },
  "language_info": {
   "codemirror_mode": {
    "name": "ipython",
    "version": 3
   },
   "file_extension": ".py",
   "mimetype": "text/x-python",
   "name": "python",
   "nbconvert_exporter": "python",
   "pygments_lexer": "ipython3",
   "version": "3.5.2"
  }
 },
 "nbformat": 4,
 "nbformat_minor": 2
}
