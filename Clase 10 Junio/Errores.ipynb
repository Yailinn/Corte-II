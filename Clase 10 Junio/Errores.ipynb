{
 "cells": [
  {
   "cell_type": "markdown",
   "metadata": {},
   "source": [
    "# Función Factorial"
   ]
  },
  {
   "cell_type": "code",
   "execution_count": 68,
   "metadata": {},
   "outputs": [
    {
     "name": "stdout",
     "output_type": "stream",
     "text": [
      "El factorial es:  788657867364790503552363213932185062295135977687173263294742533244359449963403342920304284011984623904177212138919638830257642790242637105061926624952829931113462857270763317237396988943922445621451664240254033291864131227428294853277524242407573903240321257405579568660226031904170324062351700858796178922222789623703897374720000000000000000000000000000000000000000000000000\n"
     ]
    }
   ],
   "source": [
    "def fact(i):\n",
    "    if i==0:\n",
    "        return(1)\n",
    "    return(int(i)*fact(int(i-1)))\n",
    "print('El factorial es: ',fact(200))\n",
    "#Sin el int para 200.0 muestra infinito debido a que el orden máximo es de 308 y el .0 agrega un orden mayor,\n",
    "#mostrando resultado a infinito"
   ]
  },
  {
   "cell_type": "code",
   "execution_count": 82,
   "metadata": {},
   "outputs": [
    {
     "name": "stdout",
     "output_type": "stream",
     "text": [
      "0.30000000000000004\n"
     ]
    }
   ],
   "source": [
    "a=0.1\n",
    "b=0.2\n",
    "c=a+b\n",
    "if c==0.3:\n",
    "    print('Hola') #Hasta este punto del codigo no se va a imprimir nada pues c no es exactamente 0.3\n",
    "else:\n",
    "    print(c)"
   ]
  },
  {
   "cell_type": "code",
   "execution_count": 83,
   "metadata": {},
   "outputs": [
    {
     "name": "stdout",
     "output_type": "stream",
     "text": [
      "Hola\n"
     ]
    }
   ],
   "source": [
    "a=0.1\n",
    "b=0.2\n",
    "c=a+b\n",
    "epsilon=1e-12\n",
    "if abs(c-0.3)<epsilon: # Se declara variable epsilon para que tome los decimales de c\n",
    "    print('Hola')"
   ]
  },
  {
   "cell_type": "markdown",
   "metadata": {},
   "source": [
    "# Errores"
   ]
  },
  {
   "cell_type": "code",
   "execution_count": 88,
   "metadata": {},
   "outputs": [
    {
     "name": "stdout",
     "output_type": "stream",
     "text": [
      "1.25\n"
     ]
    }
   ],
   "source": [
    "#y=1000000000000000\n",
    "y=1e15\n",
    "x=1e1\n",
    "x=1000000000000001.234567891234\n",
    "print(x-y)"
   ]
  },
  {
   "cell_type": "code",
   "execution_count": 101,
   "metadata": {},
   "outputs": [
    {
     "name": "stdout",
     "output_type": "stream",
     "text": [
      "1.42108547152\n",
      "1.41421356237\n",
      "El porcentaje de error es:  0.687190914711\n"
     ]
    }
   ],
   "source": [
    "x=1\n",
    "y=1+(10**(-14)*(sqrt(2)))\n",
    "print((10**14)*(y-x))\n",
    "print(sqrt(2))\n",
    "a=(10**14)*(y-x)\n",
    "b=sqrt(2)\n",
    "print('El porcentaje de error es: ',100*(a-b))"
   ]
  },
  {
   "cell_type": "markdown",
   "metadata": {},
   "source": [
    "# Ecuación Cuadrática"
   ]
  },
  {
   "cell_type": "markdown",
   "metadata": {},
   "source": [
    "$x=\\frac{-b\\pm\\sqrt{b^{2}-4ac}}{2a}$ \n",
    "$x=\\frac{2c}{-b\\mp\\sqrt{b^{2}-4ac}}$"
   ]
  },
  {
   "cell_type": "markdown",
   "metadata": {},
   "source": [
    "Resolver $0.001x^{2}+1000x+0.001=0$ por ambas ecuaciones de la cuadratica"
   ]
  },
  {
   "cell_type": "code",
   "execution_count": 103,
   "metadata": {},
   "outputs": [
    {
     "name": "stdout",
     "output_type": "stream",
     "text": [
      "-9.99989424599e-07\n",
      "-999999.999999\n"
     ]
    }
   ],
   "source": [
    "a=0.001\n",
    "b=1000\n",
    "c=0.001\n",
    "x1=((-b)+sqrt((b**2)-4*a*c))/(2*a)\n",
    "x2=((-b)-sqrt((b**2)-4*a*c))/(2*a)\n",
    "print(x1)\n",
    "print(x2)"
   ]
  },
  {
   "cell_type": "code",
   "execution_count": 104,
   "metadata": {},
   "outputs": [
    {
     "name": "stdout",
     "output_type": "stream",
     "text": [
      "-1000010.57551\n",
      "-1e-06\n"
     ]
    }
   ],
   "source": [
    "a=0.001\n",
    "b=1000\n",
    "c=0.001\n",
    "y1=(2*c)/((-b)+sqrt((b**2)-4*a*c))\n",
    "y2=(2*c)/((-b)-sqrt((b**2)-4*a*c))\n",
    "print(x1)\n",
    "print(x2)"
   ]
  },
  {
   "cell_type": "markdown",
   "metadata": {},
   "source": [
    "Diferencias porcentuales"
   ]
  },
  {
   "cell_type": "code",
   "execution_count": 110,
   "metadata": {},
   "outputs": [
    {
     "name": "stdout",
     "output_type": "stream",
     "text": [
      "La diferencia porcentual es:  1.05754016655e-09\n",
      "La diferencia porcentual es:  1057.55135057\n"
     ]
    }
   ],
   "source": [
    "x1=((-b)+sqrt((b**2)-4*a*c))/(2*a)\n",
    "y2=(2*c)/((-b)-sqrt((b**2)-4*a*c))\n",
    "x2=((-b)-sqrt((b**2)-4*a*c))/(2*a)\n",
    "y1=(2*c)/((-b)+sqrt((b**2)-4*a*c))\n",
    "\n",
    "z1=x1-y2\n",
    "z2=x2-y1\n",
    "print('La diferencia porcentual es: ',100*z1)\n",
    "print('La diferencia porcentual es: ',100*z2)"
   ]
  },
  {
   "cell_type": "markdown",
   "metadata": {},
   "source": [
    "# Derivadas"
   ]
  },
  {
   "cell_type": "markdown",
   "metadata": {},
   "source": [
    "Sea $f(x)=x(x-1)$ "
   ]
  },
  {
   "cell_type": "markdown",
   "metadata": {},
   "source": [
    "a) Calcular la derivada por su definición de límite con un error de $\\delta=10^{-2}$"
   ]
  },
  {
   "cell_type": "code",
   "execution_count": 60,
   "metadata": {},
   "outputs": [
    {
     "name": "stdout",
     "output_type": "stream",
     "text": [
      "El valor de la derivada por definición de límite es f´(x) = 1.010000000000001\n"
     ]
    }
   ],
   "source": [
    "d=1e-2\n",
    "x=1\n",
    "dev=(((x+d)*(x+d-1))-(x*(x-1)))/d\n",
    "print('El valor de la derivada por definición de límite es f´(x) =',dev)"
   ]
  },
  {
   "cell_type": "markdown",
   "metadata": {},
   "source": [
    "b) Comparar el resultado obtenido con el resultado analítico"
   ]
  },
  {
   "cell_type": "code",
   "execution_count": 70,
   "metadata": {},
   "outputs": [
    {
     "name": "stdout",
     "output_type": "stream",
     "text": [
      "El valor de la derivada es f´(x) = 1\n"
     ]
    }
   ],
   "source": [
    "x=1\n",
    "anlt=(x-1)+x\n",
    "print('El valor de la derivada es f´(x) =',anlt)"
   ]
  },
  {
   "cell_type": "code",
   "execution_count": 71,
   "metadata": {},
   "outputs": [
    {
     "name": "stdout",
     "output_type": "stream",
     "text": [
      "0.07992778373491216\n"
     ]
    }
   ],
   "source": [
    "error=abs(anlt-dev)*100\n",
    "print(error)"
   ]
  },
  {
   "cell_type": "markdown",
   "metadata": {},
   "source": [
    "Comparando el resultado del inciso a) con el resultado analítico  se obtiene un error de 1%, es decir, un error muy pequeño pues aproximadamente los resultados son iguales solo que para el inciso a) nos muestran 16 valores después de la coma debido a que python corta en 16/17 bits."
   ]
  },
  {
   "cell_type": "markdown",
   "metadata": {},
   "source": [
    "c) Calcular la derivada con errores de $\\delta=10^{-2}$ hasta $\\delta=10^{-14}$ con un paso de 2."
   ]
  },
  {
   "cell_type": "code",
   "execution_count": 69,
   "metadata": {},
   "outputs": [
    {
     "name": "stdout",
     "output_type": "stream",
     "text": [
      "Los errorer a tener en cuenta son los siguientes\n",
      " d =  [0.01, 0.0001, 1e-06, 1e-08, 1e-10, 1e-12, 1e-14]\n",
      "\n",
      "Los valores para cada valor de d son:\n",
      "\n",
      "Para d =  0.01  \n",
      "El valor de la derivada es f´(x) = 1.010000000000001 \n",
      "Con un error de  1.0000000000000897 %\n",
      "\n",
      "Para d =  0.0001  \n",
      "El valor de la derivada es f´(x) = 1.0000999999998899 \n",
      "Con un error de  0.009999999988985486 %\n",
      "\n",
      "Para d =  1e-06  \n",
      "El valor de la derivada es f´(x) = 1.0000009999177333 \n",
      "Con un error de  9.99917733279787e-05 %\n",
      "\n",
      "Para d =  1e-08  \n",
      "El valor de la derivada es f´(x) = 1.0000000039225287 \n",
      "Con un error de  3.9225287462585356e-07 %\n",
      "\n",
      "Para d =  1e-10  \n",
      "El valor de la derivada es f´(x) = 1.000000082840371 \n",
      "Con un error de  8.284037100736441e-06 %\n",
      "\n",
      "Para d =  1e-12  \n",
      "El valor de la derivada es f´(x) = 1.0000889005833413 \n",
      "Con un error de  0.008890058334132256 %\n",
      "\n",
      "Para d =  1e-14  \n",
      "El valor de la derivada es f´(x) = 0.9992007221626509 \n",
      "Con un error de  0.07992778373491216 %\n"
     ]
    }
   ],
   "source": [
    "x=1\n",
    "d=[]\n",
    "for i in range(2,16,2):\n",
    "    a=10**-i\n",
    "    d.append(a)\n",
    "print ('Los errorer a tener en cuenta son los siguientes\\n d = ',d)\n",
    "print('\\nLos valores para cada valor de d son:')\n",
    "for i in d:\n",
    "    dev=(((x+i)*(x+i-1))-(x*(x-1)))/i\n",
    "    error=abs(anlt-dev)*100\n",
    "    print('\\nPara d = ',i,' \\nEl valor de la derivada es f´(x) =',dev,'\\nCon un error de ',error,'%')"
   ]
  },
  {
   "cell_type": "code",
   "execution_count": 8,
   "metadata": {},
   "outputs": [
    {
     "name": "stdout",
     "output_type": "stream",
     "text": [
      "\n",
      "Para d =  0.01 la derivada es  1.010000000000001\n",
      "\n",
      "Para d =  0.0001 la derivada es  1.0000999999998899\n",
      "\n",
      "Para d =  1e-06 la derivada es  1.0000009999177333\n",
      "\n",
      "Para d =  1e-08 la derivada es  1.0000000039225287\n",
      "\n",
      "Para d =  1e-10 la derivada es  1.000000082840371\n",
      "\n",
      "Para d =  1e-12 la derivada es  1.0000889005833413\n",
      "\n",
      "Para d =  1e-14 la derivada es  0.9992007221626509\n"
     ]
    }
   ],
   "source": [
    "x=1\n",
    "d=[]\n",
    "for i in range(2,16,2):\n",
    "    a=10**-i\n",
    "    d.append(a)\n",
    "for i in d:\n",
    "    dev=(((x+i)*(x+i-1))-(x*(x-1)))/i\n",
    "    anlt=(x-1)+x\n",
    "    error=abs(anlt-dev)*100\n",
    "    print('\\nPara d = ',i,'la derivada es ',dev,)"
   ]
  },
  {
   "cell_type": "code",
   "execution_count": null,
   "metadata": {},
   "outputs": [],
   "source": []
  }
 ],
 "metadata": {
  "kernelspec": {
   "display_name": "Python 3",
   "language": "python",
   "name": "python3"
  },
  "language_info": {
   "codemirror_mode": {
    "name": "ipython",
    "version": 3
   },
   "file_extension": ".py",
   "mimetype": "text/x-python",
   "name": "python",
   "nbconvert_exporter": "python",
   "pygments_lexer": "ipython3",
   "version": "3.5.2"
  }
 },
 "nbformat": 4,
 "nbformat_minor": 2
}
