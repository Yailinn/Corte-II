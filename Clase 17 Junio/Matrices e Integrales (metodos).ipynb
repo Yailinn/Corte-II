{
 "cells": [
  {
   "cell_type": "code",
   "execution_count": 1,
   "metadata": {},
   "outputs": [
    {
     "name": "stdout",
     "output_type": "stream",
     "text": [
      "\tMULTIPLICACIÓN DE MATRICES\n",
      "\n",
      "C_ 5 x 5 =\n",
      " [[0. 0. 0. 0. 0.]\n",
      " [0. 0. 0. 0. 0.]\n",
      " [0. 0. 0. 0. 0.]\n",
      " [0. 0. 0. 0. 0.]\n",
      " [0. 0. 0. 0. 0.]]\n",
      "\n",
      "A_ 5 x 5 = C*C =\n",
      " [[0. 0. 0. 0. 0.]\n",
      " [0. 0. 0. 0. 0.]\n",
      " [0. 0. 0. 0. 0.]\n",
      " [0. 0. 0. 0. 0.]\n",
      " [0. 0. 0. 0. 0.]]\n",
      "\n",
      "El tiempo de computo es t =  4.220008850097656e-05\n"
     ]
    }
   ],
   "source": [
    "from numpy import*\n",
    "import time\n",
    "print('\\tMULTIPLICACIÓN DE MATRICES')\n",
    "n=5\n",
    "C=zeros([n,n])\n",
    "A=zeros([n,n])\n",
    "for i in range(0,n):\n",
    "  for j in range(0,n):\n",
    "    for k in range(0,n):\n",
    "      A[i][j]=C[i][k]*C[k][j]\n",
    "print('\\nC_',n,'x',n,'=\\n',C)\n",
    "print('\\nA_',n,'x',n,'= C*C =\\n',A)\n",
    "ts=time.time()\n",
    "print('\\nEl tiempo de computo es t = ',time.time()-ts)\n"
   ]
  },
  {
   "cell_type": "code",
   "execution_count": 2,
   "metadata": {},
   "outputs": [
    {
     "name": "stdout",
     "output_type": "stream",
     "text": [
      "\tMULTIPLICACIÓN DE MATRICES\n",
      "\n",
      "C_ 5 x 5 =\n",
      " [[0. 0. 0. 0. 0.]\n",
      " [0. 0. 0. 0. 0.]\n",
      " [0. 0. 0. 0. 0.]\n",
      " [0. 0. 0. 0. 0.]\n",
      " [0. 0. 0. 0. 0.]]\n",
      "\n",
      "A_ 5 x 5 = C*C =\n",
      " [[0. 0. 0. 0. 0.]\n",
      " [0. 0. 0. 0. 0.]\n",
      " [0. 0. 0. 0. 0.]\n",
      " [0. 0. 0. 0. 0.]\n",
      " [0. 0. 0. 0. 0.]]\n",
      "\n",
      "El tiempo de computo por solución propia de Python es t =  0.00012803077697753906\n"
     ]
    }
   ],
   "source": [
    "from numpy import*\n",
    "import time\n",
    "print('\\tMULTIPLICACIÓN DE MATRICES')\n",
    "n=5\n",
    "C=zeros([n,n])\n",
    "print('\\nC_',n,'x',n,'=\\n',C)\n",
    "print('\\nA_',n,'x',n,'= C*C =\\n',dot(C,C))\n",
    "ta=time.time()\n",
    "print('\\nEl tiempo de computo por solución propia de Python es t = ',time.time()-ta)\n"
   ]
  },
  {
   "cell_type": "markdown",
   "metadata": {},
   "source": [
    "# CÁLCULO DE INTEGRALES"
   ]
  },
  {
   "cell_type": "markdown",
   "metadata": {},
   "source": [
    "Resolver la integral $\\int_{-1}^{1}\\sqrt{1-x^{2}}dx$"
   ]
  },
  {
   "cell_type": "markdown",
   "metadata": {},
   "source": [
    "*  **Método del rectángulo (Riemman)**"
   ]
  },
  {
   "cell_type": "markdown",
   "metadata": {},
   "source": [
    "Resolviendo la integral con un vector"
   ]
  },
  {
   "cell_type": "code",
   "execution_count": 17,
   "metadata": {},
   "outputs": [
    {
     "name": "stdout",
     "output_type": "stream",
     "text": [
      "El valor de la integral es I = 1.5707437385010703\n"
     ]
    }
   ],
   "source": [
    "from numpy import*\n",
    "I=[]\n",
    "N=1000\n",
    "h=2/N\n",
    "for k in range(1,N):\n",
    "  x=-1+(k*h)\n",
    "  y=sqrt((1-x**2))\n",
    "  i=h*y\n",
    "  I.append(i)\n",
    "  It=sum(I)\n",
    "print('El valor de la integral es I =',It)"
   ]
  },
  {
   "cell_type": "markdown",
   "metadata": {},
   "source": [
    "Resolviendo la integral con un contador"
   ]
  },
  {
   "cell_type": "code",
   "execution_count": 23,
   "metadata": {},
   "outputs": [
    {
     "name": "stdout",
     "output_type": "stream",
     "text": [
      "El valor de la integral es I = 1.570743738501071\n"
     ]
    }
   ],
   "source": [
    "N=1000\n",
    "h=2/N\n",
    "It=0\n",
    "for k in range(1,N):\n",
    "  x=-1+(k*h)\n",
    "  y=sqrt((1-x**2))\n",
    "  i=h*y\n",
    "  It+=i\n",
    "print('El valor de la integral es I =',It)"
   ]
  },
  {
   "cell_type": "markdown",
   "metadata": {},
   "source": [
    "* **Método del trapezoide**"
   ]
  },
  {
   "cell_type": "markdown",
   "metadata": {},
   "source": [
    "Resolver la integral $\\int_{0}^{1}\\sqrt{1-x^{2}}dx$"
   ]
  },
  {
   "cell_type": "code",
   "execution_count": 56,
   "metadata": {},
   "outputs": [
    {
     "name": "stdout",
     "output_type": "stream",
     "text": [
      "El valor de la integral es I = 1.5706173106560368\n",
      "El error es e = 0.011396521357098788\n"
     ]
    }
   ],
   "source": [
    "N=1000\n",
    "a=-1\n",
    "b=1\n",
    "h=(b-a)/N\n",
    "it=0\n",
    "for k in range(1,N-1):\n",
    "    x=a+k*h\n",
    "    y=sqrt((1-x**2))\n",
    "    it+=h*y\n",
    "It=(h/2)*(sqrt(1-a**2)+sqrt(1-b**2))+it\n",
    "print('El valor de la integral es I =',It)\n",
    "error=abs((1-(It)*(2/pi)))\n",
    "print('El error es e =',error*100)"
   ]
  },
  {
   "cell_type": "markdown",
   "metadata": {},
   "source": [
    "Resolver la integral $\\int_{0}^{2} (x^{4}-2x+1) dx$"
   ]
  },
  {
   "cell_type": "code",
   "execution_count": 66,
   "metadata": {},
   "outputs": [
    {
     "name": "stdout",
     "output_type": "stream",
     "text": [
      "El valor de la integral es I = 4.374130474793567\n",
      "El error es e = 0.5879437546916555\n"
     ]
    }
   ],
   "source": [
    "N=1000\n",
    "a=0\n",
    "b=2\n",
    "h=(b-a)/N\n",
    "it=0\n",
    "for k in range(1,N-1):\n",
    "    x=a+k*h\n",
    "    y=(x**4-(2*x)+1)\n",
    "    it+=h*y\n",
    "It=(h/2)*(a**4-(2*a)+1+b**4-(2*b)+1)+it\n",
    "print('El valor de la integral es I =',It)\n",
    "error=abs((1-(It)*(1/4.4)))\n",
    "print('El error es e =',error*100)"
   ]
  },
  {
   "cell_type": "markdown",
   "metadata": {},
   "source": [
    "* **Método de Simpson**"
   ]
  },
  {
   "cell_type": "markdown",
   "metadata": {},
   "source": [
    "Resolver la integral $\\int_{0}^{2} (x^{4}-2x+1) dx$"
   ]
  },
  {
   "cell_type": "code",
   "execution_count": 29,
   "metadata": {},
   "outputs": [
    {
     "name": "stdout",
     "output_type": "stream",
     "text": [
      "El valor de la integral es I = 5.478372294899295\n"
     ]
    }
   ],
   "source": [
    "N=1000\n",
    "a=0\n",
    "b=2\n",
    "h=(b-a)/N\n",
    "it=0\n",
    "for k in range(1,N//2):\n",
    "    #x1=a+2*(k-1)*h\n",
    "    #x2=a+2*k*h\n",
    "    #x=4*x1+2*x2\n",
    "    x=(4*(a+(2*k-1)*h))+(2*(a+k*(2*h)))\n",
    "    y=(x**4-(2*x)+1)\n",
    "    it+=h*y\n",
    "It=(h/3)*((a**4-(2*a)+1)+(b**4-(2*b)+1)+it)\n",
    "print('El valor de la integral es I =',It)\n",
    "#error=abs((1-(It)*(1/4.4)))\n",
    "#print('El error es e =',error*100)"
   ]
  },
  {
   "cell_type": "code",
   "execution_count": 50,
   "metadata": {},
   "outputs": [
    {
     "name": "stdout",
     "output_type": "stream",
     "text": [
      "El valor de la integral es I = 4.348319232857216\n",
      "El error es e = 1.1745628896087212\n"
     ]
    }
   ],
   "source": [
    "N=1000\n",
    "a=0\n",
    "b=2\n",
    "h=(b-a)/N\n",
    "it1=0\n",
    "it2=0\n",
    "for k in range(1,N//2):\n",
    "    x1=a+(2*k-1)*h\n",
    "    y1=(x1**4-(2*x1)+1)\n",
    "    it1+=y1\n",
    "for k in range(1,(N//2)-1):\n",
    "    x2=a+(2*k*h)\n",
    "    y2=(x2**4-(2*x2)+1)\n",
    "    it2+=y2\n",
    "I=4*it1+2*it2\n",
    "It=(h/3)*((a**4-2*a+1+b**4-2*b+1)+I)\n",
    "print('El valor de la integral es I =',It)\n",
    "error=abs((1-(It)*(1/4.4)))\n",
    "print('El error es e =',error*100)"
   ]
  },
  {
   "cell_type": "markdown",
   "metadata": {},
   "source": [
    "### Aplicando los métodos integrales a un conjunto de datos"
   ]
  },
  {
   "cell_type": "code",
   "execution_count": 2,
   "metadata": {},
   "outputs": [
    {
     "name": "stdout",
     "output_type": "stream",
     "text": [
      "El valor de la posición es x = 839.0166979999995\n"
     ]
    },
    {
     "ename": "AttributeError",
     "evalue": "module 'matplotlib.colors' has no attribute 'to_rgba'",
     "output_type": "error",
     "traceback": [
      "\u001b[0;31m---------------------------------------------------------------------------\u001b[0m",
      "\u001b[0;31mAttributeError\u001b[0m                            Traceback (most recent call last)",
      "\u001b[0;32m~/.local/lib/python3.5/site-packages/ipykernel/pylab/backend_inline.py\u001b[0m in \u001b[0;36mshow\u001b[0;34m(close, block)\u001b[0m\n\u001b[1;32m     37\u001b[0m             display(\n\u001b[1;32m     38\u001b[0m                 \u001b[0mfigure_manager\u001b[0m\u001b[0;34m.\u001b[0m\u001b[0mcanvas\u001b[0m\u001b[0;34m.\u001b[0m\u001b[0mfigure\u001b[0m\u001b[0;34m,\u001b[0m\u001b[0;34m\u001b[0m\u001b[0m\n\u001b[0;32m---> 39\u001b[0;31m                 \u001b[0mmetadata\u001b[0m\u001b[0;34m=\u001b[0m\u001b[0m_fetch_figure_metadata\u001b[0m\u001b[0;34m(\u001b[0m\u001b[0mfigure_manager\u001b[0m\u001b[0;34m.\u001b[0m\u001b[0mcanvas\u001b[0m\u001b[0;34m.\u001b[0m\u001b[0mfigure\u001b[0m\u001b[0;34m)\u001b[0m\u001b[0;34m\u001b[0m\u001b[0m\n\u001b[0m\u001b[1;32m     40\u001b[0m             )\n\u001b[1;32m     41\u001b[0m     \u001b[0;32mfinally\u001b[0m\u001b[0;34m:\u001b[0m\u001b[0;34m\u001b[0m\u001b[0m\n",
      "\u001b[0;32m~/.local/lib/python3.5/site-packages/ipykernel/pylab/backend_inline.py\u001b[0m in \u001b[0;36m_fetch_figure_metadata\u001b[0;34m(fig)\u001b[0m\n\u001b[1;32m    172\u001b[0m     \u001b[0;34m\"\"\"Get some metadata to help with displaying a figure.\"\"\"\u001b[0m\u001b[0;34m\u001b[0m\u001b[0m\n\u001b[1;32m    173\u001b[0m     \u001b[0;31m# determine if a background is needed for legibility\u001b[0m\u001b[0;34m\u001b[0m\u001b[0;34m\u001b[0m\u001b[0m\n\u001b[0;32m--> 174\u001b[0;31m     \u001b[0;32mif\u001b[0m \u001b[0m_is_transparent\u001b[0m\u001b[0;34m(\u001b[0m\u001b[0mfig\u001b[0m\u001b[0;34m.\u001b[0m\u001b[0mget_facecolor\u001b[0m\u001b[0;34m(\u001b[0m\u001b[0;34m)\u001b[0m\u001b[0;34m)\u001b[0m\u001b[0;34m:\u001b[0m\u001b[0;34m\u001b[0m\u001b[0m\n\u001b[0m\u001b[1;32m    175\u001b[0m         \u001b[0;31m# the background is transparent\u001b[0m\u001b[0;34m\u001b[0m\u001b[0;34m\u001b[0m\u001b[0m\n\u001b[1;32m    176\u001b[0m         ticksLight = _is_light([label.get_color()\n",
      "\u001b[0;32m~/.local/lib/python3.5/site-packages/ipykernel/pylab/backend_inline.py\u001b[0m in \u001b[0;36m_is_transparent\u001b[0;34m(color)\u001b[0m\n\u001b[1;32m    193\u001b[0m \u001b[0;32mdef\u001b[0m \u001b[0m_is_transparent\u001b[0m\u001b[0;34m(\u001b[0m\u001b[0mcolor\u001b[0m\u001b[0;34m)\u001b[0m\u001b[0;34m:\u001b[0m\u001b[0;34m\u001b[0m\u001b[0m\n\u001b[1;32m    194\u001b[0m     \u001b[0;34m\"\"\"Determine transparency from alpha.\"\"\"\u001b[0m\u001b[0;34m\u001b[0m\u001b[0m\n\u001b[0;32m--> 195\u001b[0;31m     \u001b[0mrgba\u001b[0m \u001b[0;34m=\u001b[0m \u001b[0mcolors\u001b[0m\u001b[0;34m.\u001b[0m\u001b[0mto_rgba\u001b[0m\u001b[0;34m(\u001b[0m\u001b[0mcolor\u001b[0m\u001b[0;34m)\u001b[0m\u001b[0;34m\u001b[0m\u001b[0m\n\u001b[0m\u001b[1;32m    196\u001b[0m     \u001b[0;32mreturn\u001b[0m \u001b[0mrgba\u001b[0m\u001b[0;34m[\u001b[0m\u001b[0;36m3\u001b[0m\u001b[0;34m]\u001b[0m \u001b[0;34m<\u001b[0m \u001b[0;36m.5\u001b[0m\u001b[0;34m\u001b[0m\u001b[0m\n",
      "\u001b[0;31mAttributeError\u001b[0m: module 'matplotlib.colors' has no attribute 'to_rgba'"
     ]
    }
   ],
   "source": [
    "from numpy import* \n",
    "from pylab import*\n",
    "data = loadtxt(\"velocities.txt\",float)\n",
    "#plot(data[:,0],data[:,1])\n",
    "N=100\n",
    "a=0\n",
    "b=100\n",
    "va=data[0,1]\n",
    "vb=data[100,1]\n",
    "h=(b-a)/N\n",
    "it=0\n",
    "for k in range(1,N-1):\n",
    "    y=(data[:,1])\n",
    "    it+=y*h\n",
    "It=(h/2)*(va+vb)+it\n",
    "I=sum(It)\n",
    "print('El valor de la posición es x =',I)"
   ]
  },
  {
   "cell_type": "code",
   "execution_count": null,
   "metadata": {},
   "outputs": [],
   "source": []
  }
 ],
 "metadata": {
  "kernelspec": {
   "display_name": "Python 3",
   "language": "python",
   "name": "python3"
  },
  "language_info": {
   "codemirror_mode": {
    "name": "ipython",
    "version": 3
   },
   "file_extension": ".py",
   "mimetype": "text/x-python",
   "name": "python",
   "nbconvert_exporter": "python",
   "pygments_lexer": "ipython3",
   "version": "3.5.2"
  }
 },
 "nbformat": 4,
 "nbformat_minor": 2
}
